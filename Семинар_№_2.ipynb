{
 "cells": [
  {
   "cell_type": "markdown",
   "id": "4c67cd32",
   "metadata": {},
   "source": [
    "<!--<div align=\"center\">Семинар № 2-->\n",
    "\n",
    "<div align=\"center\"><font color=#4682B4 size=4 face=\n",
    "                          \"arial black\"><em><strong>Семинар 2</strong></em></font></div>"
   ]
  },
  {
   "cell_type": "markdown",
   "id": "69a1de7a",
   "metadata": {},
   "source": [
    "<div class=\"alert alert-block alert-info\"><em>\n",
    "    <b>Урок 2. Оценка эффективности инвестиций.</b>\n",
    "    <br>\n",
    "    \n",
    "<b>Задача 1.</b> Есть инвестиционный проект с денежными потоками по кварталам:<br>\n",
    "Квартал 0 1 2 3 4 5;<br>\n",
    "денежный поток -1200 100 200 300 400 500;<br>\n",
    "Необходимо принять решение, инвестируем в проект или нет, если ставка дисконтирования 15% годовых."
   ]
  },
  {
   "cell_type": "markdown",
   "id": "eae6ec86",
   "metadata": {},
   "source": [
    "Расчёт в таблице ***EXCEL*** :"
   ]
  },
  {
   "cell_type": "markdown",
   "id": "df11cf6b",
   "metadata": {},
   "source": [
    "<img src=\"ДЗ_22_011.png\" width=\"550\" height=\"200\">"
   ]
  },
  {
   "cell_type": "markdown",
   "id": "b0edae96",
   "metadata": {},
   "source": [
    "По формуле ***EXCEL*** :"
   ]
  },
  {
   "cell_type": "markdown",
   "id": "ba332725",
   "metadata": {},
   "source": [
    "<img src=\"ДЗ_22_012.png\" width=\"550\" height=\"200\">"
   ]
  },
  {
   "cell_type": "markdown",
   "id": "ead7f98d",
   "metadata": {},
   "source": [
    "В ***PYTHON***'е :"
   ]
  },
  {
   "cell_type": "code",
   "execution_count": 1,
   "id": "f238083b",
   "metadata": {},
   "outputs": [],
   "source": [
    "def net_present_value(discount:list, cashFlow:list, term = False) -> str:\n",
    "    '''Принимает два списка: discount - список ставок дисконтирования по периодам \n",
    "       (например, 10% => 10); cashFlow - список денежный поток по периодам и\n",
    "       term - третий аргумент(необязательный) любое целое число.\n",
    "       Выводит срок окупаемости (если указан третий аргумент) в годах, месяцах,\n",
    "       днях чистую приведенную стоимость '''\n",
    "     \n",
    "    if len(discount) != len(cashFlow): return f'Размерности списков не равны. Внимательней!'\n",
    "    \n",
    "    disc, npv, da = 1, cashFlow[0], 0\n",
    "    for _ in range(1, len(cashFlow)):\n",
    "        disc /= (1 + discount[_] / 100)\n",
    "        npv0 = npv\n",
    "        npv += disc * cashFlow[_]\n",
    "        if term:\n",
    "            if npv > 0 and (not da):\n",
    "                da = - npv0 / cashFlow[_] * 365\n",
    "                print(f'Срок окупаемости : {_ - 1:.0f} года, {da // 30.5:.0f} месяцев,\\\n",
    " {da % 30.5:.0f} дней;\\n'),\n",
    "               \n",
    "    if term and npv < 0: print('Проект НЕ окупается за данные периоды\\n')\n",
    "    print(f'Чистая приведенная стоимость равна: {npv:0.2f}') "
   ]
  },
  {
   "cell_type": "code",
   "execution_count": 2,
   "id": "b7754405",
   "metadata": {},
   "outputs": [
    {
     "name": "stdout",
     "output_type": "stream",
     "text": [
      "Чистая приведенная стоимость равна: 111.99\n"
     ]
    }
   ],
   "source": [
    "discount_rate1 = [15 / 4] * 6\n",
    "cash_flow1 = [-1200, 100, 200, 300, 400, 500]\n",
    "\n",
    "net_present_value(discount_rate1, cash_flow1)"
   ]
  },
  {
   "cell_type": "code",
   "execution_count": 3,
   "id": "6509c1cd",
   "metadata": {},
   "outputs": [
    {
     "data": {
      "text/plain": [
       "'Размерности списков не равны. Внимательней!'"
      ]
     },
     "execution_count": 3,
     "metadata": {},
     "output_type": "execute_result"
    }
   ],
   "source": [
    "discount_rate0 = [15 / 4] * 5\n",
    "\n",
    "net_present_value(discount_rate0, cash_flow1)"
   ]
  },
  {
   "cell_type": "markdown",
   "id": "54c62bd7",
   "metadata": {},
   "source": [
    "Из библиотеки ***numpy_financial***"
   ]
  },
  {
   "cell_type": "code",
   "execution_count": 4,
   "id": "813d4442",
   "metadata": {},
   "outputs": [
    {
     "data": {
      "text/plain": [
       "'Чистая приведенная стоимость равна : 111.989'"
      ]
     },
     "execution_count": 4,
     "metadata": {},
     "output_type": "execute_result"
    }
   ],
   "source": [
    "import numpy as np\n",
    "import numpy_financial as nf\n",
    "\n",
    "dr_arr1, cf_arr1 = np.array([_ / 100 for _ in discount_rate1]), np.array(cash_flow1)\n",
    "f'Чистая приведенная стоимость равна : {round(nf.npv(dr_arr1, cf_arr1), 3)}'"
   ]
  },
  {
   "cell_type": "markdown",
   "id": "3aa165e6",
   "metadata": {},
   "source": [
    "<div class=\"alert alert-block alert-success\"><em>\n",
    "    <b>Ответ:</b><br>\n",
    "        Чистая приведенная стоимость равна :<b> 111,99</b>. Положительна. Проект <b>ПРИНИМАЕТСЯ</b>.<br>    \n",
    "</em></div>"
   ]
  },
  {
   "cell_type": "markdown",
   "id": "da31357b",
   "metadata": {},
   "source": [
    "***"
   ]
  },
  {
   "cell_type": "markdown",
   "id": "784087d2",
   "metadata": {},
   "source": [
    "<div class=\"alert alert-block alert-info\"><em>\n",
    "<b>Задача 2.</b> Для инвестиционного проекта с денежными потоками:<br>\n",
    "Год 0 1 2 3 4 5 6;<br>\n",
    "денежный поток -1500 100 200 300 400 500 600;<br>\n",
    "найти NPV, если первые два года ставка дисконтирования равна 20%,<br>\n",
    "    следующие два года она равна 15%, и затем становится 10%."
   ]
  },
  {
   "cell_type": "markdown",
   "id": "95d66f94",
   "metadata": {},
   "source": [
    "Расчёт в таблице ***EXCEL***:"
   ]
  },
  {
   "cell_type": "markdown",
   "id": "71f58789",
   "metadata": {},
   "source": [
    "<img src=\"ДЗ_22_024.png\" width=\"620\" height=\"200\">"
   ]
  },
  {
   "cell_type": "markdown",
   "id": "49d4a7ba",
   "metadata": {},
   "source": [
    "В ***PYTHON***'е"
   ]
  },
  {
   "cell_type": "code",
   "execution_count": 5,
   "id": "42abf65d",
   "metadata": {},
   "outputs": [
    {
     "name": "stdout",
     "output_type": "stream",
     "text": [
      "Проект НЕ окупается за данные периоды\n",
      "\n",
      "Чистая приведенная стоимость равна: -387.52\n"
     ]
    }
   ],
   "source": [
    "discount_rate2 = [20, 20, 20, 15, 15, 10, 10]\n",
    "cash_flow2 = [-1500, 100, 200, 300, 400, 500, 600]\n",
    "\n",
    "net_present_value(discount_rate2, cash_flow2, 1)"
   ]
  },
  {
   "cell_type": "markdown",
   "id": "a19979f6",
   "metadata": {},
   "source": [
    "<div class=\"alert alert-block alert-success\"><em>\n",
    "    <b>Ответ:</b><br>\n",
    "        Чистая приведенная стоимость равна: <b>- 387.5</b>.<br>    \n",
    "</em></div>"
   ]
  },
  {
   "cell_type": "markdown",
   "id": "d4acbcc4",
   "metadata": {},
   "source": [
    "***"
   ]
  },
  {
   "cell_type": "markdown",
   "id": "b6e07e48",
   "metadata": {},
   "source": [
    "<div class=\"alert alert-block alert-info\"><em>\n",
    "<b>Задача 3.</b> Для проекта из задачи 2 найти внутреннюю норму доходности.<br>"
   ]
  },
  {
   "cell_type": "markdown",
   "id": "7c6db86f",
   "metadata": {},
   "source": [
    "По формуле ***EXCEL*** :"
   ]
  },
  {
   "cell_type": "markdown",
   "id": "cda2d0dd",
   "metadata": {},
   "source": [
    "<img src=\"ДЗ_22_031.png\" width=\"620\" height=\"200\">"
   ]
  },
  {
   "cell_type": "markdown",
   "id": "042b2fd2",
   "metadata": {},
   "source": [
    "Из библиотеки ***numpy_financial***"
   ]
  },
  {
   "cell_type": "code",
   "execution_count": 6,
   "id": "7503c9b8",
   "metadata": {},
   "outputs": [
    {
     "data": {
      "text/plain": [
       "'Внутренняя норма доходности равна: 8.252 %'"
      ]
     },
     "execution_count": 6,
     "metadata": {},
     "output_type": "execute_result"
    }
   ],
   "source": [
    "f'Внутренняя норма доходности равна: {round(nf.irr(cash_flow2) * 100, 3)} %'"
   ]
  },
  {
   "cell_type": "markdown",
   "id": "d173057c",
   "metadata": {},
   "source": [
    "<div class=\"alert alert-block alert-success\"><em>\n",
    "    <b>Ответ:</b><br>\n",
    "        Внутренняя норма доходности равна:  <b>8.3 %</b>.<br>    \n",
    "</em></div>"
   ]
  },
  {
   "cell_type": "markdown",
   "id": "66eaef65",
   "metadata": {},
   "source": [
    "***"
   ]
  },
  {
   "cell_type": "markdown",
   "id": "8f230abe",
   "metadata": {},
   "source": [
    "<div class=\"alert alert-block alert-info\"><em>\n",
    "<b>Задача 4.</b>Есть два инвестиционных проекта со следующими денежными потоками:<br>\n",
    "Год 0 1 2 3 4 5;<br>\n",
    "Проект А -1000 100 250 450 500 550;<br>\n",
    "Проект Б -1000 200 300 400 450 500;<br>\n",
    "Если стоимость денег равна 10%, и инвестор хочет получить максимальную доходность<br>\n",
    "    на вложенный рубль инвестиций, то какой проект он должен выбрать?"
   ]
  },
  {
   "cell_type": "markdown",
   "id": "85a02444",
   "metadata": {},
   "source": [
    "Расчёт в таблице ***EXCEL***:"
   ]
  },
  {
   "cell_type": "markdown",
   "id": "9023603d",
   "metadata": {},
   "source": [
    "<img src=\"ДЗ_22_041.png\" width=\"640\" height=\"200\">"
   ]
  },
  {
   "cell_type": "markdown",
   "id": "8b324a7f",
   "metadata": {},
   "source": [
    "В ***PYTHON***'е :"
   ]
  },
  {
   "cell_type": "code",
   "execution_count": 7,
   "id": "81ff7d4a",
   "metadata": {},
   "outputs": [],
   "source": [
    "discount_rate4 = [10] * 6\n",
    "cash_flow4a = [-1000, 100, 250, 450, 500, 550]\n",
    "cash_flow4b = [-1000, 200, 300, 400, 450, 500]"
   ]
  },
  {
   "cell_type": "code",
   "execution_count": 8,
   "id": "816ecb2f",
   "metadata": {},
   "outputs": [
    {
     "name": "stdout",
     "output_type": "stream",
     "text": [
      "Для проекта А\n",
      "Чистая приведенная стоимость равна: 318.63\n"
     ]
    }
   ],
   "source": [
    "print('Для проекта А')\n",
    "net_present_value(discount_rate4, cash_flow4a)"
   ]
  },
  {
   "cell_type": "code",
   "execution_count": 9,
   "id": "bcf0f441",
   "metadata": {
    "scrolled": true
   },
   "outputs": [
    {
     "name": "stdout",
     "output_type": "stream",
     "text": [
      "Для проекта B\n",
      "Чистая приведенная стоимость равна: 348.09\n"
     ]
    }
   ],
   "source": [
    "print('Для проекта B')\n",
    "net_present_value(discount_rate4, cash_flow4b)"
   ]
  },
  {
   "cell_type": "markdown",
   "id": "3a27bb4d",
   "metadata": {},
   "source": [
    "<div class=\"alert alert-block alert-success\"><em>\n",
    "    <b>Ответ:</b><br>\n",
    "    Чистая приведенная стоимость проекта А меньше, чем у проекта В : <b>318.6 < 348.1</b>.<br>\n",
    "    А также индекс доходности выше у <b>проекта В</b>.<br>\n",
    "    <b>Инвестор должен выбрать проект В</b>.<br>    \n",
    "</em></div>"
   ]
  },
  {
   "cell_type": "markdown",
   "id": "6fed3cc8",
   "metadata": {},
   "source": [
    "***"
   ]
  },
  {
   "cell_type": "markdown",
   "id": "65be48f9",
   "metadata": {},
   "source": [
    "<div class=\"alert alert-block alert-info\"><em>\n",
    "<b>Задача 5.</b>Есть два инвестиционных проекта со следующими денежными потоками:<br>\n",
    "Год 0 1 2 3 4 5;<br>\n",
    "Проект А -1000 100 250 450 500 550;<br>\n",
    "Проект Б -1000 200 300 400 450 500;<br>\n",
    "Инвестор хочет выбрать один из проектов по критерию ликвидности с учетом<br> \n",
    "    временной стоимости денег в размере 10% годовых. Какой он должен выбрать?<br>"
   ]
  },
  {
   "cell_type": "markdown",
   "id": "e452cc09",
   "metadata": {},
   "source": [
    "Расчёт в таблице ***EXCEL***:"
   ]
  },
  {
   "cell_type": "markdown",
   "id": "17874dcb",
   "metadata": {},
   "source": [
    "<img src=\"ДЗ_22_05.png\" width=\"700\" height=\"200\">"
   ]
  },
  {
   "cell_type": "markdown",
   "id": "fcabce90",
   "metadata": {},
   "source": [
    "В ***PYTHON***'е :"
   ]
  },
  {
   "cell_type": "code",
   "execution_count": 10,
   "id": "d5786cd5",
   "metadata": {},
   "outputs": [],
   "source": [
    "discount_rate5 = [10] * 6\n",
    "cash_flow5a = [-1000, 100, 250, 450, 500, 550]\n",
    "cash_flow5b = [-1000, 200, 300, 400, 450, 500]"
   ]
  },
  {
   "cell_type": "code",
   "execution_count": 11,
   "id": "813c4cad",
   "metadata": {},
   "outputs": [
    {
     "name": "stdout",
     "output_type": "stream",
     "text": [
      "Срок окупаемости : 4 года, 0 месяцев, 15 дней;\n",
      "\n",
      "Чистая приведенная стоимость равна: 318.63\n"
     ]
    }
   ],
   "source": [
    "net_present_value(discount_rate5, cash_flow5a, 2)"
   ]
  },
  {
   "cell_type": "code",
   "execution_count": 12,
   "id": "7c732cc6",
   "metadata": {},
   "outputs": [
    {
     "name": "stdout",
     "output_type": "stream",
     "text": [
      "Срок окупаемости : 3 года, 7 месяцев, 5 дней;\n",
      "\n",
      "Чистая приведенная стоимость равна: 348.09\n"
     ]
    }
   ],
   "source": [
    "net_present_value(discount_rate5, cash_flow5b, 5)"
   ]
  },
  {
   "cell_type": "markdown",
   "id": "4c2e45be",
   "metadata": {},
   "source": [
    "<div class=\"alert alert-block alert-success\"><em>\n",
    "    <b>Ответ:</b><br>\n",
    "     Срок окупаемости <b>проекта В</b> меньше, выбираем его.<br>    \n",
    "</em></div>"
   ]
  },
  {
   "cell_type": "markdown",
   "id": "514f8c8e",
   "metadata": {},
   "source": [
    "***"
   ]
  }
 ],
 "metadata": {
  "kernelspec": {
   "display_name": "Python 3",
   "language": "python",
   "name": "python3"
  },
  "language_info": {
   "codemirror_mode": {
    "name": "ipython",
    "version": 3
   },
   "file_extension": ".py",
   "mimetype": "text/x-python",
   "name": "python",
   "nbconvert_exporter": "python",
   "pygments_lexer": "ipython3",
   "version": "3.8.8"
  }
 },
 "nbformat": 4,
 "nbformat_minor": 5
}
