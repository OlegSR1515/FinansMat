{
 "cells": [
  {
   "cell_type": "markdown",
   "id": "4c67cd32",
   "metadata": {},
   "source": [
    "<!--<div align=\"center\">Семинар № 2-->\n",
    "\n",
    "<div align=\"center\"><font color=#4682B4 size=4 face=\n",
    "                          \"arial black\"><em><strong>Семинар 1</strong></em></font></div>"
   ]
  },
  {
   "cell_type": "markdown",
   "id": "231506cf",
   "metadata": {},
   "source": [
    "<div class=\"alert alert-block alert-info\"><em>\n",
    "    <b>Урок 1. Временная стоимость денег. Процентные расчеты.</b>\n",
    "    <br>\n",
    "    \n",
    "<b>Задача 1.</b> Инвестор купил акцию 6 лет назад по цене $\\$ 10$. Сейчас он продал ее за $\\$50$.<br> Определить, какую доходность принесла ему эта инвестиция в процентах годовых.  "
   ]
  },
  {
   "cell_type": "markdown",
   "id": "c00dcdc0",
   "metadata": {},
   "source": [
    "$$(\\sqrt[6]{50 \\over 10} - 1) * 100 \\% = 30.77 \\%$$\n",
    "\n",
    "Проверим :"
   ]
  },
  {
   "cell_type": "markdown",
   "id": "f092ef47",
   "metadata": {},
   "source": [
    "<img src=\"ДЗ_1_1.png\" width=\"500\" height=\"200\">"
   ]
  },
  {
   "cell_type": "markdown",
   "id": "1d0b8d7f",
   "metadata": {},
   "source": [
    "<div class=\"alert alert-block alert-success\"><em>\n",
    "    <b>Ответ:</b><br>\n",
    "        Инвестиция принесла <b> 30,8 %</b> годовых.<br>    \n",
    "</em></div>"
   ]
  },
  {
   "cell_type": "markdown",
   "id": "5d17f3e7",
   "metadata": {},
   "source": [
    "***"
   ]
  },
  {
   "cell_type": "markdown",
   "id": "70999ae6",
   "metadata": {},
   "source": [
    "<div class=\"alert alert-block alert-info\"><em>   \n",
    "<b>Задача 2.</b> Инвестору исполнилось только что 30 лет. Он хочет выйти на пенсию в 60 лет<br>\n",
    "    и жить на доход с капитала. Допустим, его целевой уровень капитала к пенсии составляет $\\$ 350 000$.<br>\n",
    "    Если он ожидает ставку доходности на рынке порядка 8% годовых, то какую сумму ему надо инвестировать<br>\n",
    "    каждый год для достижения цели?  "
   ]
  },
  {
   "cell_type": "markdown",
   "id": "7aea15fd",
   "metadata": {},
   "source": [
    "<img src=\"ДЗ_2_1.png\" width=\"500\" height=\"200\">"
   ]
  },
  {
   "cell_type": "markdown",
   "id": "72904d32",
   "metadata": {},
   "source": [
    "<img src=\"ДЗ_2_6.png\" width=\"480\" height=\"200\">"
   ]
  },
  {
   "cell_type": "markdown",
   "id": "7df617d9",
   "metadata": {},
   "source": [
    "<div class=\"alert alert-block alert-success\"><em>\n",
    "    <b>Ответ:</b><br>\n",
    "        Каждый год нужно инвестировать <b> $\\$ 3 069,41$.</b><br>    \n",
    "</em></div>"
   ]
  },
  {
   "cell_type": "markdown",
   "id": "d12015e1",
   "metadata": {},
   "source": [
    "***"
   ]
  },
  {
   "cell_type": "markdown",
   "id": "2b820209",
   "metadata": {},
   "source": [
    "<div class=\"alert alert-block alert-info\"><em>   \n",
    "<b>Задача 3.</b> Человек взял ипотечный кредит на сумму 8 млн руб., на 20 лет под 10% годовых.<br> Погашение кредита будет происходить ежемесячными аннуитетными платежами.<br> \n",
    "    Определить, сколько составит общая переплата (сумма процентов) по кредиту.  "
   ]
  },
  {
   "cell_type": "markdown",
   "id": "c6e010a6",
   "metadata": {},
   "source": [
    "Ежемесячный аннуитетный платёж по формуле EXCEL:$~~$ **=ПЛТ(10% / 12, 240, -8000000)**<br>\n",
    "равен ***77 201,73*** рублей.<br>\n",
    " Тогда переплата равна $~~$**77 201,73 * 20 * 12 - 8 000 000 = 10 528 415,59** рублей.\n"
   ]
  },
  {
   "cell_type": "markdown",
   "id": "2345a7f2",
   "metadata": {},
   "source": [
    "<div class=\"alert alert-block alert-success\"><em>\n",
    "    <b>Ответ:</b><br>\n",
    "       Общая переплата составит <b> 10 528 415,59</b> рублей или <b> 131,6</b> %.<br>    \n",
    "</em></div>"
   ]
  },
  {
   "cell_type": "markdown",
   "id": "fca7f15b",
   "metadata": {},
   "source": [
    "***"
   ]
  },
  {
   "cell_type": "markdown",
   "id": "2825470b",
   "metadata": {},
   "source": [
    "<div class=\"alert alert-block alert-info\"><em>   \n",
    "<b>Задача 4.</b> Известно, что безрисковая ставка на рынке составляет 1%,<br>\n",
    "    инфляция ожидается 6% годовых и для данного проекта премия за риск равна 4%.<br>\n",
    "    Пусть ставка дисконтирования определяется как сумма этих трех составляющих,<br>\n",
    "    тогда чему равна приведенная стоимость потоков по проекту, если в первый год ожидается $\\$2000$,<br>\n",
    "    во второй $\\$5 000$ и в третьем году проект будет продан за $\\$10000$?  "
   ]
  },
  {
   "cell_type": "markdown",
   "id": "7fcd8034",
   "metadata": {},
   "source": [
    "Тогда общая ставка дисконтирования $ 1\\% + 6\\% + 4\\% = 11\\%$ годовых.<br><br>\n",
    "А приведенный поток $\\$ 2 000\\over{1+11\\%}$ + $\\$5000\\over {(1+11\\%)^2}$ + $\\$10000\\over {(1+11\\%)^3}$ = $13 171,83."
   ]
  },
  {
   "cell_type": "markdown",
   "id": "3dd8b83a",
   "metadata": {},
   "source": [
    "<div class=\"alert alert-block alert-success\"><em>\n",
    "    <b>Ответ:</b><br>\n",
    "   Приведенная стоимость потоков по проекту равна <b>$ 13 171,83</b>.<br>    \n",
    "</em></div>"
   ]
  },
  {
   "cell_type": "markdown",
   "id": "59363169",
   "metadata": {},
   "source": [
    "***"
   ]
  },
  {
   "cell_type": "markdown",
   "id": "a4b540aa",
   "metadata": {},
   "source": [
    "<div class=\"alert alert-block alert-info\"><em>   \n",
    "<b>Задача 5.</b> Что выгодней: положить деньги на депозит под 11% годовых с ежемесячной капитализацией <br>\n",
    "    или на депозит под 11,5% с ежегодной капитализацией процентов?"
   ]
  },
  {
   "cell_type": "markdown",
   "id": "cabf2f05",
   "metadata": {},
   "source": [
    "Депозит с ежемесячной капитализацией по итогу одного года даст $(1 + 11\\% / 12)^{12} -1= 11,57\\%$"
   ]
  },
  {
   "cell_type": "markdown",
   "id": "8b4190f8",
   "metadata": {},
   "source": [
    "<div class=\"alert alert-block alert-success\"><em>\n",
    "    <b>Ответ:</b><br>\n",
    "       Выгодней положить деньги на депозит под <b>11% годовых с ежемесячной капитализацией </b>.<br>   \n",
    "</em></div>"
   ]
  },
  {
   "cell_type": "markdown",
   "id": "bddb59ba",
   "metadata": {},
   "source": [
    "***"
   ]
  }
 ],
 "metadata": {
  "kernelspec": {
   "display_name": "Python 3",
   "language": "python",
   "name": "python3"
  },
  "language_info": {
   "codemirror_mode": {
    "name": "ipython",
    "version": 3
   },
   "file_extension": ".py",
   "mimetype": "text/x-python",
   "name": "python",
   "nbconvert_exporter": "python",
   "pygments_lexer": "ipython3",
   "version": "3.8.8"
  }
 },
 "nbformat": 4,
 "nbformat_minor": 5
}
